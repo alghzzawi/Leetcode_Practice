{
 "cells": [
  {
   "cell_type": "markdown",
   "metadata": {},
   "source": [
    "## Leet code\n",
    "\n",
    "For today you will be solving some selected challenges on leetcode, please create an account if you don't have then\n",
    "Follow the links below:\n",
    "read them carefully and solve them then copy-paste your solution below in Code Block\n"
   ]
  },
  {
   "cell_type": "markdown",
   "metadata": {},
   "source": [
    "### **Question-01**:\n",
    "-----\n"
   ]
  },
  {
   "cell_type": "markdown",
   "metadata": {},
   "source": [
    "##### [Roman-To-Integer](https://leetcode.com/problems/roman-to-integer/)\n",
    "\n",
    "Solution:\n"
   ]
  },
  {
   "cell_type": "code",
   "execution_count": 7,
   "metadata": {},
   "outputs": [],
   "source": [
    "\n",
    "def romanToInt( s):\n",
    "    \"\"\"\n",
    "    :type s: str\n",
    "    :rtype: int\n",
    "    \"\"\"\n",
    "    sum=0\n",
    "    if len(s) >= 1 and len(s) <=15:\n",
    "        s=s.upper()\n",
    "        arr_char = []\n",
    "\n",
    "        arr_char=[*s]\n",
    "        arr_char.insert(0,' ')\n",
    "            \n",
    "        for i in range(1,len(arr_char)):\n",
    "            if sum >= 3999:\n",
    "                print('roman numerals just in the range [1, 3999].') \n",
    "            if arr_char[i] == 'M':\n",
    "                if arr_char[i-1] == 'D':\n",
    "                    sum-=1000\n",
    "                elif arr_char[i-1] == 'C':\n",
    "                    sum-=200\n",
    "                elif arr_char[i-1] == 'L':\n",
    "                    sum-=100\n",
    "                elif arr_char[i-1] == 'X':\n",
    "                    sum-=20\n",
    "                elif arr_char[i-1] == 'V':\n",
    "                    sum-=10\n",
    "                elif arr_char[i-1] == 'I':\n",
    "                    sum-=2\n",
    "                sum+=1000\n",
    "                \n",
    "            elif arr_char[i] == 'D':\n",
    "                if arr_char[i-1] == 'C':\n",
    "                    sum-=200\n",
    "                elif arr_char[i-1] == 'L':\n",
    "                    sum-=100\n",
    "                elif arr_char[i-1] == 'X':\n",
    "                    sum-=20\n",
    "                elif arr_char[i-1] == 'V':\n",
    "                    sum-=10\n",
    "                elif arr_char[i-1] == 'I':\n",
    "                    sum-=2\n",
    "                sum+=500\n",
    "\n",
    "            elif arr_char[i] == 'C':\n",
    "                if arr_char[i-1] == 'L':\n",
    "                    sum-=100\n",
    "                elif arr_char[i-1] == 'X':\n",
    "                    sum-=20\n",
    "                elif arr_char[i-1] == 'V':\n",
    "                    sum-=10\n",
    "                elif arr_char[i-1] == 'I':\n",
    "                    sum-=2\n",
    "                sum+=100\n",
    "\n",
    "            elif arr_char[i] == 'L':\n",
    "                if arr_char[i-1] == 'X':\n",
    "                    sum-=20\n",
    "                elif arr_char[i-1] == 'V':\n",
    "                    sum-=10\n",
    "                elif arr_char[i-1] == 'I':\n",
    "                    sum-=2\n",
    "                sum+=50\n",
    "\n",
    "            elif arr_char[i] == 'X':\n",
    "                if arr_char[i-1] == 'V':\n",
    "                    sum-=10\n",
    "                elif arr_char[i-1] == 'I':\n",
    "                    sum-=2\n",
    "                sum+=10\n",
    "\n",
    "            elif arr_char[i] == 'V':\n",
    "                if arr_char[i-1] == 'I':\n",
    "                    sum-=2\n",
    "                sum+=5\n",
    "\n",
    "            elif arr_char[i] == 'I':\n",
    "                sum+=1\n",
    "\n",
    "            else:\n",
    "                print('there is no {0} in Roman numerals'.format(arr_char[i]))\n",
    "                break\n",
    "    else:\n",
    "        print('length of characters out of rang 15')\n",
    "\n",
    "    return sum\n",
    "\n"
   ]
  },
  {
   "cell_type": "markdown",
   "metadata": {},
   "source": [
    "##### testing:"
   ]
  },
  {
   "cell_type": "code",
   "execution_count": 8,
   "metadata": {},
   "outputs": [],
   "source": [
    "\n",
    "assert  58  ==  romanToInt(\"LVIII\")\n",
    "assert 1994 ==  romanToInt(\"MCMXCIV\")\n",
    "assert 3    ==  romanToInt(\"III\")"
   ]
  },
  {
   "cell_type": "markdown",
   "metadata": {},
   "source": [
    "##### Big(O):"
   ]
  },
  {
   "cell_type": "markdown",
   "metadata": {},
   "source": [
    "time complexity: O(n)<br>\n",
    "space comlexity: O(n)"
   ]
  },
  {
   "cell_type": "markdown",
   "metadata": {},
   "source": [
    "### **Question-02**:\n",
    "--------"
   ]
  },
  {
   "cell_type": "markdown",
   "metadata": {},
   "source": [
    "##### [single-number](https://leetcode.com/problems/single-number/)\n",
    "\n",
    "Solution:\n"
   ]
  },
  {
   "cell_type": "code",
   "execution_count": 17,
   "metadata": {},
   "outputs": [],
   "source": [
    "def singleNumber(nums):\n",
    "    \"\"\"\n",
    "    :type nums: List[int]\n",
    "    :rtype: int\n",
    "    \"\"\"\n",
    "    if len(nums) >= 1 and len(nums) <= 3*(10**4):        \n",
    "        for i in range(len(nums)):\n",
    "            if nums[i] >= -3*(10**4) and nums[i] <= 3*(10**4):\n",
    "                if nums.count(nums[i])==1:\n",
    "                    return nums[i]\n"
   ]
  },
  {
   "cell_type": "markdown",
   "metadata": {},
   "source": [
    "##### testing:"
   ]
  },
  {
   "cell_type": "code",
   "execution_count": 18,
   "metadata": {},
   "outputs": [],
   "source": [
    "\n",
    "assert 1 ==  singleNumber([2,2,1])\n",
    "assert 4 ==  singleNumber([4,1,2,1,2])\n",
    "assert 1 ==  singleNumber([1])"
   ]
  },
  {
   "cell_type": "markdown",
   "metadata": {},
   "source": [
    "##### Big(O):"
   ]
  },
  {
   "cell_type": "markdown",
   "metadata": {},
   "source": [
    "time complexity: O(n)<br>\n",
    "space comlexity: O(n)"
   ]
  },
  {
   "cell_type": "markdown",
   "metadata": {},
   "source": [
    "### **Question-03**:\n",
    "------"
   ]
  },
  {
   "cell_type": "markdown",
   "metadata": {},
   "source": [
    "##### [Move Zeroes](https://leetcode.com/problems/move-zeroes/)\n",
    "\n",
    "Solution:\n"
   ]
  },
  {
   "cell_type": "code",
   "execution_count": 23,
   "metadata": {},
   "outputs": [],
   "source": [
    "def moveZeroes(nums):\n",
    "    \"\"\"\n",
    "    :type nums: List[int]\n",
    "    :rtype: None Do not return anything, modify nums in-place instead.\n",
    "    \"\"\"\n",
    "\n",
    "    next_place=0\n",
    "    for i in range (len(nums)):\n",
    "        if nums[i]!=0:\n",
    "            nums[i],nums[next_place] = nums[next_place],nums[i]\n",
    "            next_place+=1\n",
    "    return nums"
   ]
  },
  {
   "cell_type": "markdown",
   "metadata": {},
   "source": [
    "##### testing:"
   ]
  },
  {
   "cell_type": "code",
   "execution_count": 24,
   "metadata": {},
   "outputs": [],
   "source": [
    "assert[1,3,12,0,0]==  moveZeroes([0,1,0,3,12])\n",
    "assert [0] ==  moveZeroes([0])\n",
    "assert [3,2,4,0,0,0] ==  moveZeroes([0,3,0,0,2,4])"
   ]
  },
  {
   "cell_type": "markdown",
   "metadata": {},
   "source": [
    "##### Big(O):"
   ]
  },
  {
   "cell_type": "markdown",
   "metadata": {},
   "source": [
    "time complexity: O(n)\n",
    "<br>\n",
    "space comlexity: O(n)"
   ]
  },
  {
   "cell_type": "markdown",
   "metadata": {},
   "source": [
    "### **Question-04**:\n",
    "------"
   ]
  },
  {
   "cell_type": "markdown",
   "metadata": {},
   "source": [
    "##### [longest-common-prefix](https://leetcode.com/problems/longest-common-prefix/)\n",
    "\n",
    "Solution:\n"
   ]
  },
  {
   "cell_type": "code",
   "execution_count": 29,
   "metadata": {},
   "outputs": [],
   "source": [
    "def longestCommonPrefix(strs):\n",
    "    \"\"\"\n",
    "    :type strs: List[str]\n",
    "    :rtype: str\n",
    "    \"\"\"\n",
    "    all_char=''\n",
    "    duplicated=True\n",
    "\n",
    "    for i in range(len(strs[0])):\n",
    "        for j in range(len(strs)):\n",
    "            if i >= len(strs[j]) or strs[0][i] != strs[j][i]:\n",
    "                duplicated=False\n",
    "        if duplicated:\n",
    "            all_char+=strs[0][i]\n",
    "        else:\n",
    "            continue \n",
    "\n",
    "    return all_char"
   ]
  },
  {
   "cell_type": "markdown",
   "metadata": {},
   "source": [
    "##### testing:"
   ]
  },
  {
   "cell_type": "code",
   "execution_count": 30,
   "metadata": {},
   "outputs": [],
   "source": [
    "assert\"fl\"==  longestCommonPrefix([\"flower\",\"flow\",\"flight\"])\n",
    "assert  \"\" ==  longestCommonPrefix ([\"dog\",\"racecar\",\"car\"])\n",
    "assert \"tra\" ==  longestCommonPrefix([\"transform\",\"transcribe\",\"train\"])"
   ]
  },
  {
   "cell_type": "markdown",
   "metadata": {},
   "source": [
    "##### Big(O):"
   ]
  },
  {
   "cell_type": "markdown",
   "metadata": {},
   "source": [
    "time complexity: O(n²)<br>\n",
    "space comlexity: O(n²)"
   ]
  }
 ],
 "metadata": {
  "kernelspec": {
   "display_name": "Python 3.10.4 64-bit",
   "language": "python",
   "name": "python3"
  },
  "language_info": {
   "codemirror_mode": {
    "name": "ipython",
    "version": 3
   },
   "file_extension": ".py",
   "mimetype": "text/x-python",
   "name": "python",
   "nbconvert_exporter": "python",
   "pygments_lexer": "ipython3",
   "version": "3.10.4"
  },
  "orig_nbformat": 4,
  "vscode": {
   "interpreter": {
    "hash": "fbc768028c3e6ead51d9a200ddcb2ec858ae62844dcd1994729a8279be9b48f2"
   }
  }
 },
 "nbformat": 4,
 "nbformat_minor": 2
}
